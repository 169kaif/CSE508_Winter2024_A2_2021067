{
 "cells": [
  {
   "cell_type": "code",
   "execution_count": 1,
   "metadata": {},
   "outputs": [],
   "source": [
    "# make imports\n",
    "\n",
    "import os\n",
    "import sys\n",
    "import csv\n",
    "import PIL\n",
    "import numpy as np\n",
    "from numpy import asarray\n",
    "import pickle\n",
    "from PIL import Image, ImageEnhance\n",
    "from matplotlib import image,pyplot\n",
    "import requests\n",
    "from io import BytesIO"
   ]
  },
  {
   "cell_type": "code",
   "execution_count": 2,
   "metadata": {},
   "outputs": [],
   "source": [
    "def read_csv(file_name):\n",
    "    \n",
    "    # check if the file exists\n",
    "    if os.path.exists(file_name):\n",
    "\n",
    "        # open the file\n",
    "        with open(file_name, 'r') as file:\n",
    "\n",
    "            # read the file\n",
    "            reader = csv.reader(file)\n",
    "\n",
    "            # return the data\n",
    "            return list(reader)\n",
    "        \n",
    "    return None\n",
    "\n",
    "given_data = read_csv('A2_Data.csv')"
   ]
  },
  {
   "cell_type": "code",
   "execution_count": 3,
   "metadata": {},
   "outputs": [
    {
     "name": "stdout",
     "output_type": "stream",
     "text": [
      "Invalid Image, Skipping...\n",
      "the image info is:  2235 https://images-na.ssl-images-amazon.com/images/I/71F3npeHUDL._SY88.jpg\n",
      "Invalid Image, Skipping...\n",
      "the image info is:  2235 https://images-na.ssl-images-amazon.com/images/I/71wHUWncMGL._SY88.jpg\n",
      "Invalid Image, Skipping...\n",
      "the image info is:  3317 https://images-na.ssl-images-amazon.com/images/I/71B8OOE5N8L._SY88.jpg\n",
      "Invalid Image, Skipping...\n",
      "the image info is:  3317 https://images-na.ssl-images-amazon.com/images/I/81SX3oAWbNL._SY88.jpg\n",
      "Invalid Image, Skipping...\n",
      "the image info is:  2912 https://images-na.ssl-images-amazon.com/images/I/718niQ1GEwL._SY88.jpg\n",
      "Invalid Image, Skipping...\n",
      "the image info is:  2265 https://images-na.ssl-images-amazon.com/images/I/61OboZT-kcL._SY88.jpg\n",
      "Invalid Image, Skipping...\n",
      "the image info is:  2088 https://images-na.ssl-images-amazon.com/images/I/710a2Pyh5lL._SY88.jpg\n",
      "Invalid Image, Skipping...\n",
      "the image info is:  3474 https://images-na.ssl-images-amazon.com/images/I/816NMd0LexL._SY88.jpg\n"
     ]
    }
   ],
   "source": [
    "given_data = given_data[1:]\n",
    "\n",
    "# download images and store image data in an array [image_data, prod_id, image_url]\n",
    "\n",
    "all_image_data = []\n",
    "\n",
    "for i in range(len(given_data)):\n",
    "    \n",
    "    # get the prod_id\n",
    "    prod_id = given_data[i][0]\n",
    "\n",
    "    # get the image_urls\n",
    "    url_lists = given_data[i][1][1:-1].split(',')\n",
    "\n",
    "    for url in url_lists:\n",
    "\n",
    "        cleaned_url = url.strip()\n",
    "        cleaned_url = cleaned_url[1:-1]\n",
    "\n",
    "        # download the image using requests library\n",
    "        response = requests.get(cleaned_url)\n",
    "\n",
    "        # open the image\n",
    "        try:\n",
    "            img = Image.open(BytesIO(response.content))\n",
    "        except:\n",
    "            print(\"Invalid Image, Skipping...\")\n",
    "            print(\"the image info is: \", prod_id, cleaned_url)\n",
    "            continue\n",
    "\n",
    "        # convert the image to numpy array\n",
    "        img_array = asarray(img)\n",
    "\n",
    "        # append the image data to the list\n",
    "        all_image_data.append([img_array, prod_id, cleaned_url])"
   ]
  },
  {
   "cell_type": "code",
   "execution_count": 4,
   "metadata": {},
   "outputs": [
    {
     "name": "stdout",
     "output_type": "stream",
     "text": [
      "Total number of images downloaded:  1640\n"
     ]
    }
   ],
   "source": [
    "print(\"Total number of images downloaded: \", len(all_image_data))"
   ]
  },
  {
   "cell_type": "code",
   "execution_count": 5,
   "metadata": {},
   "outputs": [
    {
     "name": "stdout",
     "output_type": "stream",
     "text": [
      "Pre-processing and resizing done...\n"
     ]
    }
   ],
   "source": [
    "# pre-process these images, resize them to a standard format\n",
    "\n",
    "for i in range(len(all_image_data)):\n",
    "\n",
    "    # get the image\n",
    "    img = all_image_data[i][0]\n",
    "\n",
    "    # convert the image to PIL image\n",
    "    img = Image.fromarray(img)\n",
    "\n",
    "    # resize the image\n",
    "    img = img.resize((224,224))\n",
    "\n",
    "    # convert the image to numpy array\n",
    "    img = asarray(img)\n",
    "\n",
    "    # append the image data to the list\n",
    "    all_image_data[i][0] = img\n",
    "\n",
    "print(\"Pre-processing and resizing done...\")"
   ]
  },
  {
   "cell_type": "code",
   "execution_count": 6,
   "metadata": {},
   "outputs": [],
   "source": [
    "# augment the data\n",
    "\n",
    "NUM_IMAGES = len(all_image_data)\n",
    "\n",
    "for i in range(NUM_IMAGES):\n",
    "\n",
    "    img = all_image_data[i][0]\n",
    "    prod_id = all_image_data[i][1]\n",
    "    url = all_image_data[i][2]\n",
    "\n",
    "    img = Image.fromarray(img)\n",
    "\n",
    "    # scale pixel values to produce contrast\n",
    "    curr_image = Image.eval(img, lambda x: x*1.5)\n",
    "    all_image_data.append([asarray(curr_image), prod_id, url])\n",
    "\n",
    "    # flip left right\n",
    "    curr_image = img.transpose(PIL.Image.FLIP_LEFT_RIGHT)\n",
    "    all_image_data.append([asarray(curr_image), prod_id, url])\n",
    "\n",
    "    # flip up down\n",
    "    curr_image = img.transpose(PIL.Image.FLIP_TOP_BOTTOM)\n",
    "    all_image_data.append([asarray(curr_image), prod_id, url])\n",
    "\n",
    "    # rotate 90, 180, 270\n",
    "    curr_image = img.rotate(90)\n",
    "    all_image_data.append([asarray(curr_image), prod_id, url])\n",
    "\n",
    "    curr_image = img.rotate(180)\n",
    "    all_image_data.append([asarray(curr_image), prod_id, url])\n",
    "\n",
    "    curr_image = img.rotate(270)\n",
    "    all_image_data.append([asarray(curr_image), prod_id, url])\n",
    "\n",
    "    # add variations of brightness and exposure\n",
    "    enhancer = ImageEnhance.Brightness(img)\n",
    "    curr_image = enhancer.enhance(0.5)\n",
    "\n",
    "    all_image_data.append([asarray(curr_image), prod_id, url])\n",
    "\n",
    "    enhancer = ImageEnhance.Brightness(img)\n",
    "    curr_image = enhancer.enhance(1.5)\n",
    "\n",
    "    all_image_data.append([asarray(curr_image), prod_id, url])\n",
    "\n",
    "    enhancer = ImageEnhance.Contrast(img)\n",
    "    curr_image = enhancer.enhance(0.5)\n",
    "\n",
    "    all_image_data.append([asarray(curr_image), prod_id, url])\n",
    "\n",
    "    enhancer = ImageEnhance.Contrast(img)\n",
    "    curr_image = enhancer.enhance(1.5)\n",
    "\n",
    "    all_image_data.append([asarray(curr_image), prod_id, url])"
   ]
  },
  {
   "cell_type": "code",
   "execution_count": 7,
   "metadata": {},
   "outputs": [
    {
     "name": "stdout",
     "output_type": "stream",
     "text": [
      "18040\n"
     ]
    }
   ],
   "source": [
    "print(len(all_image_data))"
   ]
  },
  {
   "cell_type": "code",
   "execution_count": 8,
   "metadata": {},
   "outputs": [],
   "source": [
    "# Extract features of the images using resnet50\n",
    "\n",
    "from torchvision.models import resnet50, ResNet50_Weights\n",
    "import torch.nn as nn\n",
    "import torchvision.transforms as transforms\n",
    "\n",
    "model = resnet50(weights=ResNet50_Weights.IMAGENET1K_V2)\n",
    "model = nn.Sequential(*list(model.children())[:-1]) #remove softmax layer\n",
    "model.eval()\n",
    "\n",
    "transform = transforms.Compose([\n",
    "    transforms.ToTensor(),  # Convert numpy array to tensor\n",
    "    transforms.Normalize(mean=[0.485, 0.456, 0.406], std=[0.229, 0.224, 0.225])  # Normalize if needed\n",
    "])"
   ]
  },
  {
   "cell_type": "code",
   "execution_count": 9,
   "metadata": {},
   "outputs": [],
   "source": [
    "# Extract features of the images using resnet50\n",
    "import torch\n",
    "\n",
    "with torch.no_grad():\n",
    "\n",
    "    for i in range(len(all_image_data)):\n",
    "\n",
    "        # get the image\n",
    "        img = (all_image_data[i][0]).copy()\n",
    "\n",
    "        # convert the image to tensor\n",
    "        img = transform(img)\n",
    "\n",
    "        # add a dimension to the image\n",
    "        img = img.unsqueeze(0)\n",
    "\n",
    "        # extract the features\n",
    "        features = model(img)\n",
    "        \n",
    "        features = features.squeeze()\n",
    "\n",
    "        # convert the features to numpy array\n",
    "        features = features.numpy()\n",
    "\n",
    "        # append the features to the list\n",
    "        all_image_data[i].append(features)"
   ]
  },
  {
   "cell_type": "code",
   "execution_count": 10,
   "metadata": {},
   "outputs": [
    {
     "name": "stdout",
     "output_type": "stream",
     "text": [
      "Normalizing the features...\n"
     ]
    }
   ],
   "source": [
    "# Normalize the obtained features for the images\n",
    "print(\"Normalizing the features...\")\n",
    "\n",
    "for i in range(len(all_image_data)):\n",
    "    all_image_data[i][3] = (all_image_data[i][3]-np.mean(all_image_data[i][3])) / (np.std(all_image_data[i][3])+1e-5)"
   ]
  },
  {
   "cell_type": "code",
   "execution_count": 11,
   "metadata": {},
   "outputs": [],
   "source": [
    "# Save the features to a file\n",
    "\n",
    "with open('image_features.pkl', 'wb') as file:\n",
    "    pickle.dump(all_image_data, file)"
   ]
  }
 ],
 "metadata": {
  "kernelspec": {
   "display_name": "env_pytorch",
   "language": "python",
   "name": "python3"
  },
  "language_info": {
   "codemirror_mode": {
    "name": "ipython",
    "version": 3
   },
   "file_extension": ".py",
   "mimetype": "text/x-python",
   "name": "python",
   "nbconvert_exporter": "python",
   "pygments_lexer": "ipython3",
   "version": "3.9.18"
  }
 },
 "nbformat": 4,
 "nbformat_minor": 2
}
